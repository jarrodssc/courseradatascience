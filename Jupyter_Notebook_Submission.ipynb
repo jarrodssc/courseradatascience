{
 "cells": [
  {
   "cell_type": "markdown",
   "metadata": {},
   "source": [
    "<center>\n",
    "    <img src=\"https://cf-courses-data.s3.us.cloud-object-storage.appdomain.cloud/IBMDeveloperSkillsNetwork-DS0105EN-SkillsNetwork/labs/Module2/images/SN_web_lightmode.png\" width=\"300\" alt=\"cognitiveclass.ai logo\">\n",
    "</center>\n"
   ]
  },
  {
   "cell_type": "markdown",
   "metadata": {},
   "source": [
    "#### Add your code below following the instructions given in the course\n"
   ]
  },
  {
   "cell_type": "markdown",
   "metadata": {},
   "source": [
    "#The title of this notebook is Jupyter_Notebook"
   ]
  },
  {
   "cell_type": "markdown",
   "metadata": {},
   "source": [
    "##Introduction: welcome to my Jupyter Notebook"
   ]
  },
  {
   "cell_type": "markdown",
   "metadata": {},
   "source": [
    "###Data Science Languages\n",
    "* python\n",
    "* java\n",
    "* C++\n",
    "* R\n",
    "* Julia\n",
    "* JavaScript\n",
    "* SQL\n",
    "* Scala\n",
    "* Swift\n",
    "* Go\n",
    "* MATLAB\n",
    "* SAS Language\n",
    "* Perl"
   ]
  },
  {
   "cell_type": "markdown",
   "metadata": {},
   "source": [
    "###Data Science Libraries\n",
    "* Matplotlib\n",
    "* Numpy\n",
    "* Pandas\n",
    "* SciPy\n",
    "* Scikit-learn\n",
    "* Seaborn\n",
    "* Plotly\n",
    "* TensorFlow\n",
    "* Keras\n",
    "* PyTorch\n",
    "* BeautifulSoup\n",
    "* Scrapy\n",
    "* Statsmodels\n",
    "* XGBoost\n",
    "* Bokeh\n",
    "* LightGBC\n",
    "* CatBoost\n",
    "* MachineLearning\n",
    "* OpenCV\n",
    "* Pycaret\n",
    "* Scikit-image\n",
    "* TPOT\n",
    "* Altair\n",
    "* Bqplot"
   ]
  },
  {
   "cell_type": "markdown",
   "metadata": {},
   "source": [
    "| Tool                | Category               | Description                                           |\n",
    "|---------------------|------------------------|-------------------------------------------------------|\n",
    "| **Jupyter Notebook** | Data Science Platform  | A web-based interactive environment for data analysis |\n",
    "| **Pandas**          | Data Manipulation      | Library for data manipulation and analysis in Python  |\n",
    "| **NumPy**           | Numerical Computing    | Library for numerical computing and array operations  |\n",
    "| **Matplotlib**      | Data Visualization     | A plotting library for creating static, animated, and interactive plots |\n",
    "| **Scikit-learn**    | Machine Learning       | A library for machine learning algorithms and tools  |\n",
    "| **TensorFlow**      | Deep Learning          | An open-source framework for building machine learning and deep learning models |\n",
    "| **Keras**           | Deep Learning          | High-level API for building neural networks, running on top of TensorFlow |\n",
    "| **Tableau**         | Data Visualization     | A business intelligence tool for creating visual analytics |\n",
    "| **SQL**             | Database               | A language for managing and querying relational databases |\n",
    "| **R**               | Statistical Analysis   | A programming language and environment for statistical computing |\n"
   ]
  },
  {
   "cell_type": "markdown",
   "metadata": {},
   "source": [
    "| Arithmetic Symbol   | Descriptor             | Example                                           |\n",
    "|---------------------|------------------------|-------------------------------------------------------|\n",
    "| **+** | Addition  | 2 + 2 = 4 |\n",
    "| **-**          | Subtraction      | 4 - 2 = 2  |\n",
    "| **(*)**           | Multiplication    | 2 * 4 = 8  |\n",
    "| **/**      |   Division   | 8 / 4 = 2 |\n",
    "| **%**    | Modulo       | 8 % 4 = 0  |\n"
   ]
  },
  {
   "cell_type": "code",
   "execution_count": null,
   "metadata": {},
   "outputs": [],
   "source": [
    "number_1 = 2\n",
    "number_2 = 3\n",
    "sum_variable = number_1 + number_2\n",
    "product_variable = number_1 * number_2\n",
    "print(sum_variable)\n",
    "print(product_variable)\n"
   ]
  },
  {
   "cell_type": "code",
   "execution_count": null,
   "metadata": {},
   "outputs": [],
   "source": [
    "number_of_minutes = 180\n",
    "number_of_hours = number_of_minutes / 60\n",
    "print(number_of_hours)"
   ]
  },
  {
   "cell_type": "markdown",
   "metadata": {},
   "source": [
    "###Objectives\n",
    "* Exercise 2 - Create a markdown cell with the title of the notebook. (1 pt)\n",
    "* Exercise 3 - Create a markdown cell for an introduction. (1 pt)\n",
    "* Exercise 4 - Create a markdown cell to list data science languages. (3 pts)\n",
    "* Exercise 5 - Create a markdown cell to list data science libraries. (3 pts)\n",
    "* Exercise 6 - Create a markdown cell with a table of Data Science tools. (3 pts)\n",
    "* Exercise 7 - Create a markdown cell introducing arithmetic expression examples. (1 pt)\n",
    "* Exercise 8 - Create a code cell to multiply and add numbers. (2 pts)\n",
    "* Exercise 9 - Create a code cell to convert minutes to hours. (2 pts)\n",
    "* Exercise 10 -Insert a markdown cell to list Objectives. (3 pts)\n",
    "* Exercise 11 - Create a markdown cell to indicate the Author’s name. (2 pts)\n",
    "* Exercise 12 - Share your notebook through GitHub (3 pts)\n",
    "* Exercise 13 - Take a screenshot of the first page of the notebook. (1 pt)"
   ]
  },
  {
   "cell_type": "markdown",
   "metadata": {},
   "source": [
    "##Author's Name: Jarrod Schaefer, conf. Nicholas"
   ]
  }
 ],
 "metadata": {
  "kernelspec": {
   "display_name": "Python 3 (ipykernel)",
   "language": "python",
   "name": "python3"
  },
  "language_info": {
   "codemirror_mode": {
    "name": "ipython",
    "version": 3
   },
   "file_extension": ".py",
   "mimetype": "text/x-python",
   "name": "python",
   "nbconvert_exporter": "python",
   "pygments_lexer": "ipython3",
   "version": "3.11.9"
  }
 },
 "nbformat": 4,
 "nbformat_minor": 4
}
